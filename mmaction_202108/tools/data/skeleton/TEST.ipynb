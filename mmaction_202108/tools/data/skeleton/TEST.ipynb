{
 "cells": [
  {
   "cell_type": "code",
   "execution_count": null,
   "metadata": {},
   "outputs": [],
   "source": [
    "import glob\n",
    "list_train = sorted(glob.glob('/export/home/data/PartHuman/train_videos'+'/*'*2))"
   ]
  },
  {
   "cell_type": "code",
   "execution_count": null,
   "metadata": {},
   "outputs": [],
   "source": [
    "dir_train =  sorted(glob.glob('/export/home/data/PartHuman/train_videos'+'/*'*1))"
   ]
  },
  {
   "cell_type": "code",
   "execution_count": null,
   "metadata": {},
   "outputs": [],
   "source": [
    "dict_train = dict()\n",
    "for i,item in enumerate(dir_train):\n",
    "    dict_train[item.split('/')[-1]] = i"
   ]
  },
  {
   "cell_type": "code",
   "execution_count": null,
   "metadata": {},
   "outputs": [],
   "source": [
    "dict_train"
   ]
  },
  {
   "cell_type": "code",
   "execution_count": null,
   "metadata": {},
   "outputs": [],
   "source": [
    "from tqdm import tqdm as tqdm\n",
    "for video in tqdm(list_train):\n",
    "    label = str(dict_train[video.split('/')[-2]])\n",
    "    pkl_name = './train_pkls/'+video.split('/')[-1].replace('.mp4','.pkl')\n",
    "    cmd = ' '.join(['python','ntu_pose_extraction.py',video,pkl_name,'--label',label])\n",
    "    #print(cmd)\n",
    "    os.system(cmd)"
   ]
  },
  {
   "cell_type": "code",
   "execution_count": null,
   "metadata": {},
   "outputs": [],
   "source": []
  },
  {
   "cell_type": "code",
   "execution_count": null,
   "metadata": {},
   "outputs": [],
   "source": [
    "# import pickle\n",
    "# with open(\"ZX12MQsqnI4_000094_000104.pkl\", 'rb') as fo:     # 读取pkl文件数据\n",
    "#     dict_data = pickle.load(fo, encoding='bytes')"
   ]
  },
  {
   "cell_type": "code",
   "execution_count": null,
   "metadata": {},
   "outputs": [],
   "source": [
    "#dict_data"
   ]
  },
  {
   "cell_type": "code",
   "execution_count": null,
   "metadata": {},
   "outputs": [],
   "source": [
    "list_test = sorted(glob.glob('/export/home/data/PartHuman/test_videos'+'/*'*2))\n",
    "for video in tqdm(list_test):\n",
    "    label = str(dict_train[video.split('/')[-2]])\n",
    "    pkl_name = './test_pkls/'+video.split('/')[-1].replace('.mp4','.pkl')\n",
    "    cmd = ' '.join(['python','ntu_pose_extraction.py',video,pkl_name,'--label',label])\n",
    "    #print(cmd)\n",
    "    os.system(cmd)"
   ]
  },
  {
   "cell_type": "code",
   "execution_count": null,
   "metadata": {},
   "outputs": [],
   "source": []
  },
  {
   "cell_type": "code",
   "execution_count": null,
   "metadata": {},
   "outputs": [],
   "source": []
  }
 ],
 "metadata": {
  "kernelspec": {
   "display_name": "Python [conda env:mmlab]",
   "language": "python",
   "name": "conda-env-mmlab-py"
  },
  "language_info": {
   "codemirror_mode": {
    "name": "ipython",
    "version": 3
   },
   "file_extension": ".py",
   "mimetype": "text/x-python",
   "name": "python",
   "nbconvert_exporter": "python",
   "pygments_lexer": "ipython3",
   "version": "3.7.10"
  }
 },
 "nbformat": 4,
 "nbformat_minor": 2
}
